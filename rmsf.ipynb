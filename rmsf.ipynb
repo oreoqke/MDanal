{
 "cells": [
  {
   "cell_type": "code",
   "execution_count": 77,
   "metadata": {},
   "outputs": [],
   "source": [
    "\n",
    "import MDAnalysis as mda\n",
    "#from MDAnalysisData import datasets\n",
    "from MDAnalysis.analysis import rms, align\n",
    "# import nglview as nv\n",
    "\n",
    "import warnings\n",
    "\n",
    "gro_file = \"vars/output_no_water.gro\"\n",
    "xtc_file = \"vars/output_no_water.xtc\"\n",
    "u=mda.Universe(gro_file, xtc_file)\n",
    "\n",
    "NUM_RES = 59\n",
    "NUM_PROTEINS = 30\n",
    "PROTEIN_LEN = 986\n",
    "RNA_LEN = 707 # indicates the rna length\n",
    "NUM_RNA = 30\n",
    "NUM_RES_RNA = 22 #how many RESIDUES (nucleotide bases) in one rna\n",
    "rna_start = NUM_PROTEINS * PROTEIN_LEN\n",
    "\n",
    "i = 10\n",
    "\n",
    "start_index = rna_start + 1 + i*RNA_LEN\n",
    "end_index = rna_start+(i+1)*RNA_LEN"
   ]
  },
  {
   "cell_type": "code",
   "execution_count": 82,
   "metadata": {},
   "outputs": [],
   "source": [
    "import MDAnalysis as mda\n",
    "from MDAnalysis.coordinates.XTC import XTCWriter\n",
    "from MDAnalysis.coordinates.GRO import GROWriter\n",
    "\n",
    "def extract_rna(rna_index):\n",
    "    # Load the full system from GROMACS files\n",
    "    gro_file = \"vars/output_no_water.gro\"\n",
    "    xtc_file = \"vars/output_no_water.xtc\"\n",
    "    u = mda.Universe(gro_file, xtc_file)\n",
    "    start_i = rna_start + 1 + rna_index*RNA_LEN\n",
    "    end_i = rna_start+(rna_index+1)*RNA_LEN\n",
    "\n",
    "    # Define RNA backbone selection\n",
    "    backbone_sel = f\"bynum {start_i}:{end_i} and (name P O5' C5' C4' C3' O3' C1' C2')\"\n",
    "    rna_backbone = u.select_atoms(backbone_sel)\n",
    "    print(f\"Selected {len(rna_backbone)} backbone atoms.\")\n",
    "\n",
    "    # Create a new Universe for just the RNA backbone\n",
    "    ref_u = mda.Merge(rna_backbone)  # Creates a new universe with only the selected atoms\n",
    "\n",
    "    # Save the cleaned-up GRO file (first frame structure)\n",
    "    output_gro = \"vars/cleaned_rna.gro\"\n",
    "    with GROWriter(output_gro) as gro_writer:\n",
    "        gro_writer.write(ref_u)\n",
    "\n",
    "    # Write a new cleaned trajectory\n",
    "    output_xtc = \"vars/cleaned_rna.xtc\"\n",
    "    with XTCWriter(output_xtc, n_atoms=len(rna_backbone)) as writer:\n",
    "        for ts in u.trajectory:\n",
    "            ref_u.atoms.positions = rna_backbone.positions  # Update the new universe positions\n",
    "            writer.write(ref_u.atoms)\n",
    "\n",
    "    print(f\"Cleaned trajectory saved to {output_xtc}\")"
   ]
  },
  {
   "cell_type": "code",
   "execution_count": 87,
   "metadata": {},
   "outputs": [
    {
     "name": "stdout",
     "output_type": "stream",
     "text": [
      "Selected 175 backbone atoms.\n",
      "Cleaned trajectory saved to vars/cleaned_rna.xtc\n",
      "Selected 175 backbone atoms.\n",
      "Reference selection contains 175 atoms.\n",
      "Number of backbone atoms after alignment: 175\n"
     ]
    }
   ],
   "source": [
    "import warnings\n",
    "import MDAnalysis as mda\n",
    "from MDAnalysis.analysis import align, rms\n",
    "\n",
    "extract_rna(10)\n",
    "\n",
    "# Load trajectory\n",
    "gro_file = \"vars/cleaned_rna.gro\"\n",
    "xtc_file = \"vars/cleaned_rna.xtc\"\n",
    "u = mda.Universe(gro_file, xtc_file)\n",
    "\n",
    "# Define selection for RNA backbone\n",
    "backbone_sel = f\"(name P O5' C5' C4' C3' O3' C1' C2')\"\n",
    "\n",
    "# Select RNA backbone atoms\n",
    "rna_backbone = u.select_atoms(backbone_sel)\n",
    "print(f\"Selected {len(rna_backbone)} backbone atoms.\")\n",
    "\n",
    "# Compute the average structure for the RNA backbone\n",
    "average = align.AverageStructure(u, u, select=backbone_sel, ref_frame=2000).run()\n",
    "ref_u = average.results.universe  # Static reference structure\n",
    "\n",
    "# Ensure the reference contains the same atoms as the selection\n",
    "ref_backbone = ref_u.select_atoms(backbone_sel)\n",
    "print(f\"Reference selection contains {len(ref_backbone)} atoms.\")\n",
    "\n",
    "# Check for consistency\n",
    "if len(ref_backbone) == 0:\n",
    "    raise ValueError(\"Reference structure contains no selected backbone atoms. Check your selection.\")\n",
    "\n",
    "# Align trajectory to the reference structure (only RNA backbone)\n",
    "aligner = align.AlignTraj(u, ref_u, select=backbone_sel, in_memory=True).run()\n",
    "\n",
    "# Compute RMSF for the RNA backbone\n",
    "c_alphas = u.select_atoms(backbone_sel)\n",
    "print(f\"Number of backbone atoms after alignment: {len(c_alphas)}\")\n",
    "\n",
    "R = rms.RMSF(c_alphas).run()"
   ]
  },
  {
   "cell_type": "code",
   "execution_count": 88,
   "metadata": {},
   "outputs": [
    {
     "name": "stderr",
     "output_type": "stream",
     "text": [
      "<>:6: SyntaxWarning: invalid escape sequence '\\A'\n",
      "<>:6: SyntaxWarning: invalid escape sequence '\\A'\n",
      "/tmp/ipykernel_1084070/714071734.py:6: SyntaxWarning: invalid escape sequence '\\A'\n",
      "  plt.ylabel('RMSF ($\\AA$)')\n",
      "/tmp/ipykernel_1084070/714071734.py:9: UserWarning: No artists with labels found to put in legend.  Note that artists whose label start with an underscore are ignored when legend() is called with no argument.\n",
      "  plt.legend()\n"
     ]
    },
    {
     "data": {
      "text/plain": [
       "<matplotlib.legend.Legend at 0x7fb1fc84c980>"
      ]
     },
     "execution_count": 88,
     "metadata": {},
     "output_type": "execute_result"
    },
    {
     "data": {
      "image/png": "[encoded data removed]",
      "text/plain": [
       "<Figure size 640x480 with 1 Axes>"
      ]
     },
     "metadata": {},
     "output_type": "display_data"
    }
   ],
   "source": [
    "import matplotlib.pyplot as plt\n",
    "%matplotlib inline\n",
    "\n",
    "plt.plot(c_alphas.resids, R.results.rmsf)\n",
    "plt.xlabel('Residue number')\n",
    "plt.ylabel('RMSF ($\\AA$)')\n",
    "# plt.axvspan(122, 159, zorder=0, alpha=0.2, color='orange', label='LID')\n",
    "# plt.axvspan(30, 59, zorder=0, alpha=0.2, color='green', label='NMP')\n",
    "plt.legend()"
   ]
  }
 ],
 "metadata": {
  "kernelspec": {
   "display_name": "gromacs",
   "language": "python",
   "name": "python3"
  },
  "language_info": {
   "codemirror_mode": {
    "name": "ipython",
    "version": 3
   },
   "file_extension": ".py",
   "mimetype": "text/x-python",
   "name": "python",
   "nbconvert_exporter": "python",
   "pygments_lexer": "ipython3",
   "version": "3.12.8"
  }
 },
 "nbformat": 4,
 "nbformat_minor": 2
}
